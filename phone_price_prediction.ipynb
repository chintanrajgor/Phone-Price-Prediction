{
  "cells": [
    {
      "cell_type": "code",
      "execution_count": null,
      "id": "27095f42",
      "metadata": {
        "_cell_guid": "b1076dfc-b9ad-4769-8c92-a6c4dae69d19",
        "_uuid": "8f2839f25d086af736a60e9eeb907d3b93b6e0e5",
        "execution": {
          "iopub.execute_input": "2022-10-11T18:09:24.648995Z",
          "iopub.status.busy": "2022-10-11T18:09:24.648593Z",
          "iopub.status.idle": "2022-10-11T18:09:26.512434Z",
          "shell.execute_reply": "2022-10-11T18:09:26.511100Z"
        },
        "papermill": {
          "duration": 1.87561,
          "end_time": "2022-10-11T18:09:26.515067",
          "exception": false,
          "start_time": "2022-10-11T18:09:24.639457",
          "status": "completed"
        },
        "tags": [],
        "id": "27095f42"
      },
      "outputs": [],
      "source": [
        "import numpy as np \n",
        "import pandas as pd\n",
        "import seaborn as sns\n",
        "import pandasql as ps \n",
        "import matplotlib.pyplot as plt\n",
        "import re\n",
        "import plotly.graph_objs as go\n",
        "from matplotlib import colors \n",
        "from wordcloud import WordCloud\n",
        "import pandas as pd\n",
        "from sklearn.metrics import mean_absolute_error\n",
        "from sklearn.model_selection import train_test_split\n",
        "from sklearn.tree import DecisionTreeRegressor\n",
        "from sklearn.linear_model import LinearRegression\n",
        "from sklearn.preprocessing import StandardScaler\n",
        "from sklearn.preprocessing import RobustScaler\n",
        "from sklearn.preprocessing import label_binarize\n",
        "from sklearn.ensemble import RandomForestClassifier\n",
        "from sklearn.svm import SVC\n",
        "from sklearn.neighbors import KNeighborsClassifier\n",
        "from sklearn.tree import DecisionTreeClassifier\n",
        "from sklearn.linear_model import LogisticRegression\n",
        "from sklearn.linear_model import SGDClassifier\n",
        "from sklearn.svm import SVC\n",
        "from sklearn.naive_bayes import GaussianNB\n",
        "%matplotlib inline"
      ]
    },
    {
      "cell_type": "code",
      "execution_count": null,
      "id": "e3cc2c2a",
      "metadata": {
        "execution": {
          "iopub.execute_input": "2022-10-11T18:09:26.531436Z",
          "iopub.status.busy": "2022-10-11T18:09:26.530935Z",
          "iopub.status.idle": "2022-10-11T18:09:26.599358Z",
          "shell.execute_reply": "2022-10-11T18:09:26.598503Z"
        },
        "papermill": {
          "duration": 0.07987,
          "end_time": "2022-10-11T18:09:26.602322",
          "exception": false,
          "start_time": "2022-10-11T18:09:26.522452",
          "status": "completed"
        },
        "tags": [],
        "id": "e3cc2c2a",
        "outputId": "e89e741a-fc48-4a76-bb73-78ef6af4d1ef"
      },
      "outputs": [
        {
          "data": {
            "text/html": [
              "<div>\n",
              "<style scoped>\n",
              "    .dataframe tbody tr th:only-of-type {\n",
              "        vertical-align: middle;\n",
              "    }\n",
              "\n",
              "    .dataframe tbody tr th {\n",
              "        vertical-align: top;\n",
              "    }\n",
              "\n",
              "    .dataframe thead th {\n",
              "        text-align: right;\n",
              "    }\n",
              "</style>\n",
              "<table border=\"1\" class=\"dataframe\">\n",
              "  <thead>\n",
              "    <tr style=\"text-align: right;\">\n",
              "      <th></th>\n",
              "      <th>battery_power</th>\n",
              "      <th>blue</th>\n",
              "      <th>clock_speed</th>\n",
              "      <th>dual_sim</th>\n",
              "      <th>fc</th>\n",
              "      <th>four_g</th>\n",
              "      <th>int_memory</th>\n",
              "      <th>m_dep</th>\n",
              "      <th>mobile_wt</th>\n",
              "      <th>n_cores</th>\n",
              "      <th>...</th>\n",
              "      <th>px_height</th>\n",
              "      <th>px_width</th>\n",
              "      <th>ram</th>\n",
              "      <th>sc_h</th>\n",
              "      <th>sc_w</th>\n",
              "      <th>talk_time</th>\n",
              "      <th>three_g</th>\n",
              "      <th>touch_screen</th>\n",
              "      <th>wifi</th>\n",
              "      <th>price_range</th>\n",
              "    </tr>\n",
              "  </thead>\n",
              "  <tbody>\n",
              "    <tr>\n",
              "      <th>0</th>\n",
              "      <td>842</td>\n",
              "      <td>0</td>\n",
              "      <td>2.2</td>\n",
              "      <td>0</td>\n",
              "      <td>1</td>\n",
              "      <td>0</td>\n",
              "      <td>7</td>\n",
              "      <td>0.6</td>\n",
              "      <td>188</td>\n",
              "      <td>2</td>\n",
              "      <td>...</td>\n",
              "      <td>20</td>\n",
              "      <td>756</td>\n",
              "      <td>2549</td>\n",
              "      <td>9</td>\n",
              "      <td>7</td>\n",
              "      <td>19</td>\n",
              "      <td>0</td>\n",
              "      <td>0</td>\n",
              "      <td>1</td>\n",
              "      <td>1</td>\n",
              "    </tr>\n",
              "    <tr>\n",
              "      <th>1</th>\n",
              "      <td>1021</td>\n",
              "      <td>1</td>\n",
              "      <td>0.5</td>\n",
              "      <td>1</td>\n",
              "      <td>0</td>\n",
              "      <td>1</td>\n",
              "      <td>53</td>\n",
              "      <td>0.7</td>\n",
              "      <td>136</td>\n",
              "      <td>3</td>\n",
              "      <td>...</td>\n",
              "      <td>905</td>\n",
              "      <td>1988</td>\n",
              "      <td>2631</td>\n",
              "      <td>17</td>\n",
              "      <td>3</td>\n",
              "      <td>7</td>\n",
              "      <td>1</td>\n",
              "      <td>1</td>\n",
              "      <td>0</td>\n",
              "      <td>2</td>\n",
              "    </tr>\n",
              "    <tr>\n",
              "      <th>2</th>\n",
              "      <td>563</td>\n",
              "      <td>1</td>\n",
              "      <td>0.5</td>\n",
              "      <td>1</td>\n",
              "      <td>2</td>\n",
              "      <td>1</td>\n",
              "      <td>41</td>\n",
              "      <td>0.9</td>\n",
              "      <td>145</td>\n",
              "      <td>5</td>\n",
              "      <td>...</td>\n",
              "      <td>1263</td>\n",
              "      <td>1716</td>\n",
              "      <td>2603</td>\n",
              "      <td>11</td>\n",
              "      <td>2</td>\n",
              "      <td>9</td>\n",
              "      <td>1</td>\n",
              "      <td>1</td>\n",
              "      <td>0</td>\n",
              "      <td>2</td>\n",
              "    </tr>\n",
              "    <tr>\n",
              "      <th>3</th>\n",
              "      <td>615</td>\n",
              "      <td>1</td>\n",
              "      <td>2.5</td>\n",
              "      <td>0</td>\n",
              "      <td>0</td>\n",
              "      <td>0</td>\n",
              "      <td>10</td>\n",
              "      <td>0.8</td>\n",
              "      <td>131</td>\n",
              "      <td>6</td>\n",
              "      <td>...</td>\n",
              "      <td>1216</td>\n",
              "      <td>1786</td>\n",
              "      <td>2769</td>\n",
              "      <td>16</td>\n",
              "      <td>8</td>\n",
              "      <td>11</td>\n",
              "      <td>1</td>\n",
              "      <td>0</td>\n",
              "      <td>0</td>\n",
              "      <td>2</td>\n",
              "    </tr>\n",
              "    <tr>\n",
              "      <th>4</th>\n",
              "      <td>1821</td>\n",
              "      <td>1</td>\n",
              "      <td>1.2</td>\n",
              "      <td>0</td>\n",
              "      <td>13</td>\n",
              "      <td>1</td>\n",
              "      <td>44</td>\n",
              "      <td>0.6</td>\n",
              "      <td>141</td>\n",
              "      <td>2</td>\n",
              "      <td>...</td>\n",
              "      <td>1208</td>\n",
              "      <td>1212</td>\n",
              "      <td>1411</td>\n",
              "      <td>8</td>\n",
              "      <td>2</td>\n",
              "      <td>15</td>\n",
              "      <td>1</td>\n",
              "      <td>1</td>\n",
              "      <td>0</td>\n",
              "      <td>1</td>\n",
              "    </tr>\n",
              "    <tr>\n",
              "      <th>5</th>\n",
              "      <td>1859</td>\n",
              "      <td>0</td>\n",
              "      <td>0.5</td>\n",
              "      <td>1</td>\n",
              "      <td>3</td>\n",
              "      <td>0</td>\n",
              "      <td>22</td>\n",
              "      <td>0.7</td>\n",
              "      <td>164</td>\n",
              "      <td>1</td>\n",
              "      <td>...</td>\n",
              "      <td>1004</td>\n",
              "      <td>1654</td>\n",
              "      <td>1067</td>\n",
              "      <td>17</td>\n",
              "      <td>1</td>\n",
              "      <td>10</td>\n",
              "      <td>1</td>\n",
              "      <td>0</td>\n",
              "      <td>0</td>\n",
              "      <td>1</td>\n",
              "    </tr>\n",
              "    <tr>\n",
              "      <th>6</th>\n",
              "      <td>1821</td>\n",
              "      <td>0</td>\n",
              "      <td>1.7</td>\n",
              "      <td>0</td>\n",
              "      <td>4</td>\n",
              "      <td>1</td>\n",
              "      <td>10</td>\n",
              "      <td>0.8</td>\n",
              "      <td>139</td>\n",
              "      <td>8</td>\n",
              "      <td>...</td>\n",
              "      <td>381</td>\n",
              "      <td>1018</td>\n",
              "      <td>3220</td>\n",
              "      <td>13</td>\n",
              "      <td>8</td>\n",
              "      <td>18</td>\n",
              "      <td>1</td>\n",
              "      <td>0</td>\n",
              "      <td>1</td>\n",
              "      <td>3</td>\n",
              "    </tr>\n",
              "    <tr>\n",
              "      <th>7</th>\n",
              "      <td>1954</td>\n",
              "      <td>0</td>\n",
              "      <td>0.5</td>\n",
              "      <td>1</td>\n",
              "      <td>0</td>\n",
              "      <td>0</td>\n",
              "      <td>24</td>\n",
              "      <td>0.8</td>\n",
              "      <td>187</td>\n",
              "      <td>4</td>\n",
              "      <td>...</td>\n",
              "      <td>512</td>\n",
              "      <td>1149</td>\n",
              "      <td>700</td>\n",
              "      <td>16</td>\n",
              "      <td>3</td>\n",
              "      <td>5</td>\n",
              "      <td>1</td>\n",
              "      <td>1</td>\n",
              "      <td>1</td>\n",
              "      <td>0</td>\n",
              "    </tr>\n",
              "    <tr>\n",
              "      <th>8</th>\n",
              "      <td>1445</td>\n",
              "      <td>1</td>\n",
              "      <td>0.5</td>\n",
              "      <td>0</td>\n",
              "      <td>0</td>\n",
              "      <td>0</td>\n",
              "      <td>53</td>\n",
              "      <td>0.7</td>\n",
              "      <td>174</td>\n",
              "      <td>7</td>\n",
              "      <td>...</td>\n",
              "      <td>386</td>\n",
              "      <td>836</td>\n",
              "      <td>1099</td>\n",
              "      <td>17</td>\n",
              "      <td>1</td>\n",
              "      <td>20</td>\n",
              "      <td>1</td>\n",
              "      <td>0</td>\n",
              "      <td>0</td>\n",
              "      <td>0</td>\n",
              "    </tr>\n",
              "    <tr>\n",
              "      <th>9</th>\n",
              "      <td>509</td>\n",
              "      <td>1</td>\n",
              "      <td>0.6</td>\n",
              "      <td>1</td>\n",
              "      <td>2</td>\n",
              "      <td>1</td>\n",
              "      <td>9</td>\n",
              "      <td>0.1</td>\n",
              "      <td>93</td>\n",
              "      <td>5</td>\n",
              "      <td>...</td>\n",
              "      <td>1137</td>\n",
              "      <td>1224</td>\n",
              "      <td>513</td>\n",
              "      <td>19</td>\n",
              "      <td>10</td>\n",
              "      <td>12</td>\n",
              "      <td>1</td>\n",
              "      <td>0</td>\n",
              "      <td>0</td>\n",
              "      <td>0</td>\n",
              "    </tr>\n",
              "    <tr>\n",
              "      <th>10</th>\n",
              "      <td>769</td>\n",
              "      <td>1</td>\n",
              "      <td>2.9</td>\n",
              "      <td>1</td>\n",
              "      <td>0</td>\n",
              "      <td>0</td>\n",
              "      <td>9</td>\n",
              "      <td>0.1</td>\n",
              "      <td>182</td>\n",
              "      <td>5</td>\n",
              "      <td>...</td>\n",
              "      <td>248</td>\n",
              "      <td>874</td>\n",
              "      <td>3946</td>\n",
              "      <td>5</td>\n",
              "      <td>2</td>\n",
              "      <td>7</td>\n",
              "      <td>0</td>\n",
              "      <td>0</td>\n",
              "      <td>0</td>\n",
              "      <td>3</td>\n",
              "    </tr>\n",
              "    <tr>\n",
              "      <th>11</th>\n",
              "      <td>1520</td>\n",
              "      <td>1</td>\n",
              "      <td>2.2</td>\n",
              "      <td>0</td>\n",
              "      <td>5</td>\n",
              "      <td>1</td>\n",
              "      <td>33</td>\n",
              "      <td>0.5</td>\n",
              "      <td>177</td>\n",
              "      <td>8</td>\n",
              "      <td>...</td>\n",
              "      <td>151</td>\n",
              "      <td>1005</td>\n",
              "      <td>3826</td>\n",
              "      <td>14</td>\n",
              "      <td>9</td>\n",
              "      <td>13</td>\n",
              "      <td>1</td>\n",
              "      <td>1</td>\n",
              "      <td>1</td>\n",
              "      <td>3</td>\n",
              "    </tr>\n",
              "    <tr>\n",
              "      <th>12</th>\n",
              "      <td>1815</td>\n",
              "      <td>0</td>\n",
              "      <td>2.8</td>\n",
              "      <td>0</td>\n",
              "      <td>2</td>\n",
              "      <td>0</td>\n",
              "      <td>33</td>\n",
              "      <td>0.6</td>\n",
              "      <td>159</td>\n",
              "      <td>4</td>\n",
              "      <td>...</td>\n",
              "      <td>607</td>\n",
              "      <td>748</td>\n",
              "      <td>1482</td>\n",
              "      <td>18</td>\n",
              "      <td>0</td>\n",
              "      <td>2</td>\n",
              "      <td>1</td>\n",
              "      <td>0</td>\n",
              "      <td>0</td>\n",
              "      <td>1</td>\n",
              "    </tr>\n",
              "    <tr>\n",
              "      <th>13</th>\n",
              "      <td>803</td>\n",
              "      <td>1</td>\n",
              "      <td>2.1</td>\n",
              "      <td>0</td>\n",
              "      <td>7</td>\n",
              "      <td>0</td>\n",
              "      <td>17</td>\n",
              "      <td>1.0</td>\n",
              "      <td>198</td>\n",
              "      <td>4</td>\n",
              "      <td>...</td>\n",
              "      <td>344</td>\n",
              "      <td>1440</td>\n",
              "      <td>2680</td>\n",
              "      <td>7</td>\n",
              "      <td>1</td>\n",
              "      <td>4</td>\n",
              "      <td>1</td>\n",
              "      <td>0</td>\n",
              "      <td>1</td>\n",
              "      <td>2</td>\n",
              "    </tr>\n",
              "    <tr>\n",
              "      <th>14</th>\n",
              "      <td>1866</td>\n",
              "      <td>0</td>\n",
              "      <td>0.5</td>\n",
              "      <td>0</td>\n",
              "      <td>13</td>\n",
              "      <td>1</td>\n",
              "      <td>52</td>\n",
              "      <td>0.7</td>\n",
              "      <td>185</td>\n",
              "      <td>1</td>\n",
              "      <td>...</td>\n",
              "      <td>356</td>\n",
              "      <td>563</td>\n",
              "      <td>373</td>\n",
              "      <td>14</td>\n",
              "      <td>9</td>\n",
              "      <td>3</td>\n",
              "      <td>1</td>\n",
              "      <td>0</td>\n",
              "      <td>1</td>\n",
              "      <td>0</td>\n",
              "    </tr>\n",
              "  </tbody>\n",
              "</table>\n",
              "<p>15 rows × 21 columns</p>\n",
              "</div>"
            ],
            "text/plain": [
              "    battery_power  blue  clock_speed  dual_sim  fc  four_g  int_memory  m_dep  \\\n",
              "0             842     0          2.2         0   1       0           7    0.6   \n",
              "1            1021     1          0.5         1   0       1          53    0.7   \n",
              "2             563     1          0.5         1   2       1          41    0.9   \n",
              "3             615     1          2.5         0   0       0          10    0.8   \n",
              "4            1821     1          1.2         0  13       1          44    0.6   \n",
              "5            1859     0          0.5         1   3       0          22    0.7   \n",
              "6            1821     0          1.7         0   4       1          10    0.8   \n",
              "7            1954     0          0.5         1   0       0          24    0.8   \n",
              "8            1445     1          0.5         0   0       0          53    0.7   \n",
              "9             509     1          0.6         1   2       1           9    0.1   \n",
              "10            769     1          2.9         1   0       0           9    0.1   \n",
              "11           1520     1          2.2         0   5       1          33    0.5   \n",
              "12           1815     0          2.8         0   2       0          33    0.6   \n",
              "13            803     1          2.1         0   7       0          17    1.0   \n",
              "14           1866     0          0.5         0  13       1          52    0.7   \n",
              "\n",
              "    mobile_wt  n_cores  ...  px_height  px_width   ram  sc_h  sc_w  talk_time  \\\n",
              "0         188        2  ...         20       756  2549     9     7         19   \n",
              "1         136        3  ...        905      1988  2631    17     3          7   \n",
              "2         145        5  ...       1263      1716  2603    11     2          9   \n",
              "3         131        6  ...       1216      1786  2769    16     8         11   \n",
              "4         141        2  ...       1208      1212  1411     8     2         15   \n",
              "5         164        1  ...       1004      1654  1067    17     1         10   \n",
              "6         139        8  ...        381      1018  3220    13     8         18   \n",
              "7         187        4  ...        512      1149   700    16     3          5   \n",
              "8         174        7  ...        386       836  1099    17     1         20   \n",
              "9          93        5  ...       1137      1224   513    19    10         12   \n",
              "10        182        5  ...        248       874  3946     5     2          7   \n",
              "11        177        8  ...        151      1005  3826    14     9         13   \n",
              "12        159        4  ...        607       748  1482    18     0          2   \n",
              "13        198        4  ...        344      1440  2680     7     1          4   \n",
              "14        185        1  ...        356       563   373    14     9          3   \n",
              "\n",
              "    three_g  touch_screen  wifi  price_range  \n",
              "0         0             0     1            1  \n",
              "1         1             1     0            2  \n",
              "2         1             1     0            2  \n",
              "3         1             0     0            2  \n",
              "4         1             1     0            1  \n",
              "5         1             0     0            1  \n",
              "6         1             0     1            3  \n",
              "7         1             1     1            0  \n",
              "8         1             0     0            0  \n",
              "9         1             0     0            0  \n",
              "10        0             0     0            3  \n",
              "11        1             1     1            3  \n",
              "12        1             0     0            1  \n",
              "13        1             0     1            2  \n",
              "14        1             0     1            0  \n",
              "\n",
              "[15 rows x 21 columns]"
            ]
          },
          "execution_count": 2,
          "metadata": {},
          "output_type": "execute_result"
        }
      ],
      "source": [
        "df = pd.read_csv(\"../input/mobile-price-classification/train.csv\") \n",
        "df.head(15)"
      ]
    },
    {
      "cell_type": "code",
      "execution_count": null,
      "id": "b9502bd5",
      "metadata": {
        "execution": {
          "iopub.execute_input": "2022-10-11T18:09:26.619697Z",
          "iopub.status.busy": "2022-10-11T18:09:26.618947Z",
          "iopub.status.idle": "2022-10-11T18:09:26.649221Z",
          "shell.execute_reply": "2022-10-11T18:09:26.647713Z"
        },
        "papermill": {
          "duration": 0.042997,
          "end_time": "2022-10-11T18:09:26.652842",
          "exception": false,
          "start_time": "2022-10-11T18:09:26.609845",
          "status": "completed"
        },
        "tags": [],
        "id": "b9502bd5",
        "outputId": "8890a501-4aac-4fa8-89f8-bb0dfa0d7e9b"
      },
      "outputs": [
        {
          "name": "stdout",
          "output_type": "stream",
          "text": [
            "<class 'pandas.core.frame.DataFrame'>\n",
            "RangeIndex: 2000 entries, 0 to 1999\n",
            "Data columns (total 21 columns):\n",
            " #   Column         Non-Null Count  Dtype  \n",
            "---  ------         --------------  -----  \n",
            " 0   battery_power  2000 non-null   int64  \n",
            " 1   blue           2000 non-null   int64  \n",
            " 2   clock_speed    2000 non-null   float64\n",
            " 3   dual_sim       2000 non-null   int64  \n",
            " 4   fc             2000 non-null   int64  \n",
            " 5   four_g         2000 non-null   int64  \n",
            " 6   int_memory     2000 non-null   int64  \n",
            " 7   m_dep          2000 non-null   float64\n",
            " 8   mobile_wt      2000 non-null   int64  \n",
            " 9   n_cores        2000 non-null   int64  \n",
            " 10  pc             2000 non-null   int64  \n",
            " 11  px_height      2000 non-null   int64  \n",
            " 12  px_width       2000 non-null   int64  \n",
            " 13  ram            2000 non-null   int64  \n",
            " 14  sc_h           2000 non-null   int64  \n",
            " 15  sc_w           2000 non-null   int64  \n",
            " 16  talk_time      2000 non-null   int64  \n",
            " 17  three_g        2000 non-null   int64  \n",
            " 18  touch_screen   2000 non-null   int64  \n",
            " 19  wifi           2000 non-null   int64  \n",
            " 20  price_range    2000 non-null   int64  \n",
            "dtypes: float64(2), int64(19)\n",
            "memory usage: 328.2 KB\n"
          ]
        }
      ],
      "source": [
        "df.info()"
      ]
    },
    {
      "cell_type": "code",
      "execution_count": null,
      "id": "b4109892",
      "metadata": {
        "execution": {
          "iopub.execute_input": "2022-10-11T18:09:26.670968Z",
          "iopub.status.busy": "2022-10-11T18:09:26.670459Z",
          "iopub.status.idle": "2022-10-11T18:09:26.678074Z",
          "shell.execute_reply": "2022-10-11T18:09:26.677221Z"
        },
        "papermill": {
          "duration": 0.018571,
          "end_time": "2022-10-11T18:09:26.680283",
          "exception": false,
          "start_time": "2022-10-11T18:09:26.661712",
          "status": "completed"
        },
        "tags": [],
        "id": "b4109892",
        "outputId": "3411e080-6a70-40c9-d9d3-10acf9a6f5ad"
      },
      "outputs": [
        {
          "name": "stdout",
          "output_type": "stream",
          "text": [
            "battery_power    False\n",
            "blue             False\n",
            "clock_speed      False\n",
            "dual_sim         False\n",
            "fc               False\n",
            "four_g           False\n",
            "int_memory       False\n",
            "m_dep            False\n",
            "mobile_wt        False\n",
            "n_cores          False\n",
            "pc               False\n",
            "px_height        False\n",
            "px_width         False\n",
            "ram              False\n",
            "sc_h             False\n",
            "sc_w             False\n",
            "talk_time        False\n",
            "three_g          False\n",
            "touch_screen     False\n",
            "wifi             False\n",
            "price_range      False\n",
            "dtype: bool\n"
          ]
        }
      ],
      "source": [
        "print(df.isnull().any())"
      ]
    },
    {
      "cell_type": "code",
      "execution_count": null,
      "id": "a181472a",
      "metadata": {
        "execution": {
          "iopub.execute_input": "2022-10-11T18:09:26.697706Z",
          "iopub.status.busy": "2022-10-11T18:09:26.697197Z",
          "iopub.status.idle": "2022-10-11T18:09:26.705012Z",
          "shell.execute_reply": "2022-10-11T18:09:26.703696Z"
        },
        "papermill": {
          "duration": 0.019147,
          "end_time": "2022-10-11T18:09:26.707420",
          "exception": false,
          "start_time": "2022-10-11T18:09:26.688273",
          "status": "completed"
        },
        "tags": [],
        "id": "a181472a",
        "outputId": "9d59ab39-cfb4-45bf-a3ae-834d49628073"
      },
      "outputs": [
        {
          "data": {
            "text/plain": [
              "(2000, 21)"
            ]
          },
          "execution_count": 5,
          "metadata": {},
          "output_type": "execute_result"
        }
      ],
      "source": [
        "df.shape"
      ]
    },
    {
      "cell_type": "code",
      "execution_count": null,
      "id": "c965744b",
      "metadata": {
        "execution": {
          "iopub.execute_input": "2022-10-11T18:09:26.725317Z",
          "iopub.status.busy": "2022-10-11T18:09:26.724997Z",
          "iopub.status.idle": "2022-10-11T18:09:26.731114Z",
          "shell.execute_reply": "2022-10-11T18:09:26.730038Z"
        },
        "papermill": {
          "duration": 0.017118,
          "end_time": "2022-10-11T18:09:26.733339",
          "exception": false,
          "start_time": "2022-10-11T18:09:26.716221",
          "status": "completed"
        },
        "tags": [],
        "id": "c965744b",
        "outputId": "a7edce4a-756c-4c60-e496-6fc88a26dd0d"
      },
      "outputs": [
        {
          "data": {
            "text/plain": [
              "Index(['battery_power', 'blue', 'clock_speed', 'dual_sim', 'fc', 'four_g',\n",
              "       'int_memory', 'm_dep', 'mobile_wt', 'n_cores', 'pc', 'px_height',\n",
              "       'px_width', 'ram', 'sc_h', 'sc_w', 'talk_time', 'three_g',\n",
              "       'touch_screen', 'wifi', 'price_range'],\n",
              "      dtype='object')"
            ]
          },
          "execution_count": 6,
          "metadata": {},
          "output_type": "execute_result"
        }
      ],
      "source": [
        "df.columns"
      ]
    },
    {
      "cell_type": "code",
      "execution_count": null,
      "id": "0c9fdf61",
      "metadata": {
        "execution": {
          "iopub.execute_input": "2022-10-11T18:09:26.750625Z",
          "iopub.status.busy": "2022-10-11T18:09:26.750096Z",
          "iopub.status.idle": "2022-10-11T18:09:27.524892Z",
          "shell.execute_reply": "2022-10-11T18:09:27.523345Z"
        },
        "papermill": {
          "duration": 0.786848,
          "end_time": "2022-10-11T18:09:27.528115",
          "exception": false,
          "start_time": "2022-10-11T18:09:26.741267",
          "status": "completed"
        },
        "tags": [],
        "id": "0c9fdf61",
        "outputId": "4fa8f788-feb2-4ac4-9e5e-bde63c2a6eb7"
      },
      "outputs": [
        {
          "data": {
            "image/png": "[encoded data removed]",
            "text/plain": [
              "<Figure size 864x720 with 6 Axes>"
            ]
          },
          "metadata": {
            "needs_background": "light"
          },
          "output_type": "display_data"
        }
      ],
      "source": [
        "plt.figure(figsize=(12,10))\n",
        "col = ['blue','dual_sim','four_g','three_g','touch_screen','price_range']\n",
        "c = 1\n",
        "for i in col:\n",
        "    if c < 7:\n",
        "        plt.subplot(2,3,c)\n",
        "        sns.countplot(x = i,data =df)\n",
        "        plt.xlabel(i)\n",
        "    c += 1\n",
        "    plt.tight_layout()"
      ]
    },
    {
      "cell_type": "code",
      "execution_count": null,
      "id": "10ea1d37",
      "metadata": {
        "execution": {
          "iopub.execute_input": "2022-10-11T18:09:27.549430Z",
          "iopub.status.busy": "2022-10-11T18:09:27.549063Z",
          "iopub.status.idle": "2022-10-11T18:09:27.910527Z",
          "shell.execute_reply": "2022-10-11T18:09:27.909755Z"
        },
        "papermill": {
          "duration": 0.374637,
          "end_time": "2022-10-11T18:09:27.912397",
          "exception": false,
          "start_time": "2022-10-11T18:09:27.537760",
          "status": "completed"
        },
        "tags": [],
        "id": "10ea1d37",
        "outputId": "84ecba95-82d8-4cfb-e438-b0497eb44ece"
      },
      "outputs": [
        {
          "data": {
            "text/plain": [
              "<seaborn.axisgrid.FacetGrid at 0x7fb4228dae90>"
            ]
          },
          "execution_count": 8,
          "metadata": {},
          "output_type": "execute_result"
        },
        {
          "data": {
            "text/plain": [
              "<Figure size 864x720 with 0 Axes>"
            ]
          },
          "metadata": {},
          "output_type": "display_data"
        },
        {
          "data": {
            "image/png": "[encoded data removed]",
            "text/plain": [
              "<Figure size 360x360 with 1 Axes>"
            ]
          },
          "metadata": {
            "needs_background": "light"
          },
          "output_type": "display_data"
        }
      ],
      "source": [
        "plt.figure(figsize=(12,10))\n",
        "sns.relplot(x = 'price_range',y = 'ram',data = df,kind = 'line')"
      ]
    },
    {
      "cell_type": "code",
      "execution_count": null,
      "id": "44d0608c",
      "metadata": {
        "execution": {
          "iopub.execute_input": "2022-10-11T18:09:27.931368Z",
          "iopub.status.busy": "2022-10-11T18:09:27.931016Z",
          "iopub.status.idle": "2022-10-11T18:09:27.938331Z",
          "shell.execute_reply": "2022-10-11T18:09:27.937430Z"
        },
        "papermill": {
          "duration": 0.019538,
          "end_time": "2022-10-11T18:09:27.940592",
          "exception": false,
          "start_time": "2022-10-11T18:09:27.921054",
          "status": "completed"
        },
        "tags": [],
        "id": "44d0608c",
        "outputId": "b4c0eceb-a449-4b01-f2b1-2ffc8f072945"
      },
      "outputs": [
        {
          "data": {
            "text/plain": [
              "1    500\n",
              "2    500\n",
              "3    500\n",
              "0    500\n",
              "Name: price_range, dtype: int64"
            ]
          },
          "execution_count": 9,
          "metadata": {},
          "output_type": "execute_result"
        }
      ],
      "source": [
        "df['price_range'].value_counts() # Number of Unique value of price_range columns."
      ]
    },
    {
      "cell_type": "code",
      "execution_count": null,
      "id": "1672db14",
      "metadata": {
        "execution": {
          "iopub.execute_input": "2022-10-11T18:09:27.960440Z",
          "iopub.status.busy": "2022-10-11T18:09:27.959457Z",
          "iopub.status.idle": "2022-10-11T18:09:28.076517Z",
          "shell.execute_reply": "2022-10-11T18:09:28.075712Z"
        },
        "papermill": {
          "duration": 0.129313,
          "end_time": "2022-10-11T18:09:28.078599",
          "exception": false,
          "start_time": "2022-10-11T18:09:27.949286",
          "status": "completed"
        },
        "tags": [],
        "id": "1672db14",
        "outputId": "2d8ee6c2-0d47-4d10-b8ea-4a42a34ef909"
      },
      "outputs": [
        {
          "data": {
            "image/png": "[encoded data removed]",
            "text/plain": [
              "<Figure size 432x288 with 1 Axes>"
            ]
          },
          "metadata": {
            "needs_background": "light"
          },
          "output_type": "display_data"
        }
      ],
      "source": [
        "sns.countplot(x = 'price_range',data=df,palette = 'hls')\n",
        "plt.show()"
      ]
    },
    {
      "cell_type": "code",
      "execution_count": null,
      "id": "4d7dd60d",
      "metadata": {
        "execution": {
          "iopub.execute_input": "2022-10-11T18:09:28.106112Z",
          "iopub.status.busy": "2022-10-11T18:09:28.104612Z",
          "iopub.status.idle": "2022-10-11T18:09:28.673587Z",
          "shell.execute_reply": "2022-10-11T18:09:28.671870Z"
        },
        "papermill": {
          "duration": 0.585535,
          "end_time": "2022-10-11T18:09:28.676385",
          "exception": false,
          "start_time": "2022-10-11T18:09:28.090850",
          "status": "completed"
        },
        "tags": [],
        "id": "4d7dd60d",
        "outputId": "d70fd63a-423d-477c-ad7a-64819b7265ce"
      },
      "outputs": [
        {
          "data": {
            "image/png": "[encoded data removed]",
            "text/plain": [
              "<Figure size 1296x720 with 6 Axes>"
            ]
          },
          "metadata": {
            "needs_background": "light"
          },
          "output_type": "display_data"
        }
      ],
      "source": [
        "fig, axes = plt.subplots(2, 3, figsize=(18, 10))\n",
        "fig.suptitle('Price Range vs all numerical factor')\n",
        "sns.countplot(ax=axes[0, 0], data=df, x='three_g',palette='RdPu')\n",
        "sns.countplot(ax=axes[0, 1], data=df, x='touch_screen',palette='RdPu')\n",
        "sns.countplot(ax=axes[0, 2], data=df, x='four_g',palette='RdPu')\n",
        "sns.countplot(ax=axes[1, 0], data=df, x='wifi',palette='RdPu')\n",
        "sns.countplot(ax=axes[1,1],data = df, x ='fc' ,palette='RdPu')\n",
        "sns.countplot(ax=axes[1,2],data = df, x ='dual_sim',palette='RdPu' )\n",
        "plt.show()"
      ]
    },
    {
      "cell_type": "code",
      "execution_count": null,
      "id": "59f41df7",
      "metadata": {
        "execution": {
          "iopub.execute_input": "2022-10-11T18:09:28.697610Z",
          "iopub.status.busy": "2022-10-11T18:09:28.697253Z",
          "iopub.status.idle": "2022-10-11T18:09:29.273089Z",
          "shell.execute_reply": "2022-10-11T18:09:29.271553Z"
        },
        "papermill": {
          "duration": 0.589863,
          "end_time": "2022-10-11T18:09:29.275929",
          "exception": false,
          "start_time": "2022-10-11T18:09:28.686066",
          "status": "completed"
        },
        "tags": [],
        "id": "59f41df7",
        "outputId": "9495d072-6984-4c4a-f372-c0938901dcc4"
      },
      "outputs": [
        {
          "data": {
            "text/plain": [
              "<AxesSubplot:>"
            ]
          },
          "execution_count": 12,
          "metadata": {},
          "output_type": "execute_result"
        },
        {
          "data": {
            "image/png": "[encoded data removed]",
            "text/plain": [
              "<Figure size 1080x864 with 2 Axes>"
            ]
          },
          "metadata": {
            "needs_background": "light"
          },
          "output_type": "display_data"
        }
      ],
      "source": [
        "fig = plt.figure(figsize=(15,12))\n",
        "sns.heatmap(df.corr())"
      ]
    },
    {
      "cell_type": "code",
      "execution_count": null,
      "id": "ac1314fe",
      "metadata": {
        "execution": {
          "iopub.execute_input": "2022-10-11T18:09:29.298987Z",
          "iopub.status.busy": "2022-10-11T18:09:29.297942Z",
          "iopub.status.idle": "2022-10-11T18:09:30.084041Z",
          "shell.execute_reply": "2022-10-11T18:09:30.082416Z"
        },
        "papermill": {
          "duration": 0.800536,
          "end_time": "2022-10-11T18:09:30.086975",
          "exception": false,
          "start_time": "2022-10-11T18:09:29.286439",
          "status": "completed"
        },
        "tags": [],
        "id": "ac1314fe",
        "outputId": "bf3b27a9-6554-4e76-cbdd-144f1c0dcb36"
      },
      "outputs": [
        {
          "data": {
            "image/png": "[encoded data removed]",
            "text/plain": [
              "<Figure size 1296x720 with 6 Axes>"
            ]
          },
          "metadata": {
            "needs_background": "light"
          },
          "output_type": "display_data"
        }
      ],
      "source": [
        "fig, axes = plt.subplots(3, 2, figsize=(18, 10))\n",
        "\n",
        "fig.suptitle('Price Range vs all numerical factor')\n",
        "\n",
        "sns.boxplot(ax=axes[0, 0], data=df, x='price_range', y='battery_power',palette = \"RdBu\")\n",
        "sns.boxplot(ax=axes[0, 1], data=df, x='price_range', y='ram',palette = \"RdBu\")\n",
        "sns.boxplot(ax=axes[1, 0], data=df, x='price_range', y='px_width',palette = \"RdBu\")\n",
        "sns.boxplot(ax=axes[1, 1], data=df, x='price_range', y='px_height',palette = \"RdBu\")\n",
        "sns.boxplot(ax=axes[2,0],data=df,x='price_range',y='mobile_wt',palette = \"RdBu\")\n",
        "sns.boxplot(ax=axes[2,1],data=df,x='price_range',y='int_memory',palette = \"RdBu\")\n",
        "plt.show()"
      ]
    },
    {
      "cell_type": "code",
      "execution_count": null,
      "id": "2e05cfda",
      "metadata": {
        "execution": {
          "iopub.execute_input": "2022-10-11T18:09:30.112652Z",
          "iopub.status.busy": "2022-10-11T18:09:30.111965Z",
          "iopub.status.idle": "2022-10-11T18:09:30.118408Z",
          "shell.execute_reply": "2022-10-11T18:09:30.117385Z"
        },
        "papermill": {
          "duration": 0.021966,
          "end_time": "2022-10-11T18:09:30.120267",
          "exception": false,
          "start_time": "2022-10-11T18:09:30.098301",
          "status": "completed"
        },
        "tags": [],
        "id": "2e05cfda"
      },
      "outputs": [],
      "source": [
        "X = df.drop('price_range',axis=1)\n",
        "y = df['price_range']"
      ]
    },
    {
      "cell_type": "code",
      "execution_count": null,
      "id": "40ac0ec8",
      "metadata": {
        "execution": {
          "iopub.execute_input": "2022-10-11T18:09:30.143944Z",
          "iopub.status.busy": "2022-10-11T18:09:30.143614Z",
          "iopub.status.idle": "2022-10-11T18:09:30.149623Z",
          "shell.execute_reply": "2022-10-11T18:09:30.148734Z"
        },
        "papermill": {
          "duration": 0.020229,
          "end_time": "2022-10-11T18:09:30.151325",
          "exception": false,
          "start_time": "2022-10-11T18:09:30.131096",
          "status": "completed"
        },
        "tags": [],
        "id": "40ac0ec8"
      },
      "outputs": [],
      "source": [
        "X_train,X_test,y_train,y_test = train_test_split(X,y,test_size = 0.33,random_state=42)"
      ]
    },
    {
      "cell_type": "markdown",
      "id": "5970db92",
      "metadata": {
        "papermill": {
          "duration": 0.010528,
          "end_time": "2022-10-11T18:09:30.172366",
          "exception": false,
          "start_time": "2022-10-11T18:09:30.161838",
          "status": "completed"
        },
        "tags": [],
        "id": "5970db92"
      },
      "source": [
        "**1. Linear Regression**"
      ]
    },
    {
      "cell_type": "code",
      "execution_count": null,
      "id": "1c492a99",
      "metadata": {
        "execution": {
          "iopub.execute_input": "2022-10-11T18:09:30.198237Z",
          "iopub.status.busy": "2022-10-11T18:09:30.197560Z",
          "iopub.status.idle": "2022-10-11T18:09:30.232362Z",
          "shell.execute_reply": "2022-10-11T18:09:30.231344Z"
        },
        "papermill": {
          "duration": 0.061874,
          "end_time": "2022-10-11T18:09:30.245814",
          "exception": false,
          "start_time": "2022-10-11T18:09:30.183940",
          "status": "completed"
        },
        "tags": [],
        "id": "1c492a99",
        "outputId": "5d99bac2-d0da-4a55-8bcb-d1be2ee200f2"
      },
      "outputs": [
        {
          "data": {
            "text/plain": [
              "0.9190369530612715"
            ]
          },
          "execution_count": 16,
          "metadata": {},
          "output_type": "execute_result"
        }
      ],
      "source": [
        "lrm = LinearRegression()\n",
        "lrm.fit(X_train,y_train)\n",
        "lrm.score(X_test,y_test)"
      ]
    },
    {
      "cell_type": "markdown",
      "id": "525a0b69",
      "metadata": {
        "papermill": {
          "duration": 0.028027,
          "end_time": "2022-10-11T18:09:30.311945",
          "exception": false,
          "start_time": "2022-10-11T18:09:30.283918",
          "status": "completed"
        },
        "tags": [],
        "id": "525a0b69"
      },
      "source": [
        "**2. Logistic Regression**"
      ]
    },
    {
      "cell_type": "code",
      "execution_count": null,
      "id": "2eed0d8f",
      "metadata": {
        "execution": {
          "iopub.execute_input": "2022-10-11T18:09:30.356615Z",
          "iopub.status.busy": "2022-10-11T18:09:30.356235Z",
          "iopub.status.idle": "2022-10-11T18:09:30.449118Z",
          "shell.execute_reply": "2022-10-11T18:09:30.447117Z"
        },
        "papermill": {
          "duration": 0.110206,
          "end_time": "2022-10-11T18:09:30.451589",
          "exception": false,
          "start_time": "2022-10-11T18:09:30.341383",
          "status": "completed"
        },
        "tags": [],
        "id": "2eed0d8f",
        "outputId": "0db662e4-5b95-4836-a370-c3f919c90127"
      },
      "outputs": [
        {
          "name": "stdout",
          "output_type": "stream",
          "text": [
            "confusion matrix:\n",
            " [[131  37   1   0]\n",
            " [ 33  82  36  11]\n",
            " [  1  34  85  42]\n",
            " [  0   3  41 123]]\n",
            "accuracy score =  0.6378787878787879\n"
          ]
        },
        {
          "name": "stderr",
          "output_type": "stream",
          "text": [
            "/opt/conda/lib/python3.7/site-packages/sklearn/linear_model/_logistic.py:818: ConvergenceWarning: lbfgs failed to converge (status=1):\n",
            "STOP: TOTAL NO. of ITERATIONS REACHED LIMIT.\n",
            "\n",
            "Increase the number of iterations (max_iter) or scale the data as shown in:\n",
            "    https://scikit-learn.org/stable/modules/preprocessing.html\n",
            "Please also refer to the documentation for alternative solver options:\n",
            "    https://scikit-learn.org/stable/modules/linear_model.html#logistic-regression\n",
            "  extra_warning_msg=_LOGISTIC_SOLVER_CONVERGENCE_MSG,\n"
          ]
        }
      ],
      "source": [
        "\n",
        "lr = LogisticRegression()\n",
        "lr.fit(X_train,y_train)\n",
        "\n",
        "#getting confusion matrix\n",
        "from sklearn.metrics import confusion_matrix\n",
        "y_pred = lr.predict(X_test)\n",
        "cm = confusion_matrix(y_test,y_pred)\n",
        "print('confusion matrix:\\n',cm)\n",
        "\n",
        "#checking accuracy\n",
        "from sklearn.metrics import accuracy_score\n",
        "lra = accuracy_score(y_test,y_pred)\n",
        "print('accuracy score = ',lra)"
      ]
    },
    {
      "cell_type": "markdown",
      "id": "26584e1b",
      "metadata": {
        "papermill": {
          "duration": 0.010529,
          "end_time": "2022-10-11T18:09:30.473016",
          "exception": false,
          "start_time": "2022-10-11T18:09:30.462487",
          "status": "completed"
        },
        "tags": [],
        "id": "26584e1b"
      },
      "source": [
        "**3. SVM**"
      ]
    },
    {
      "cell_type": "code",
      "execution_count": null,
      "id": "29bbdae4",
      "metadata": {
        "execution": {
          "iopub.execute_input": "2022-10-11T18:09:30.498101Z",
          "iopub.status.busy": "2022-10-11T18:09:30.496537Z",
          "iopub.status.idle": "2022-10-11T18:09:42.884803Z",
          "shell.execute_reply": "2022-10-11T18:09:42.883447Z"
        },
        "papermill": {
          "duration": 12.403184,
          "end_time": "2022-10-11T18:09:42.887335",
          "exception": false,
          "start_time": "2022-10-11T18:09:30.484151",
          "status": "completed"
        },
        "tags": [],
        "id": "29bbdae4",
        "outputId": "2acb99af-5e95-480f-8ffa-128bad7c4e50"
      },
      "outputs": [
        {
          "data": {
            "text/plain": [
              "SVC(kernel='linear', random_state=0)"
            ]
          },
          "execution_count": 18,
          "metadata": {},
          "output_type": "execute_result"
        }
      ],
      "source": [
        "classifier = SVC(kernel = 'linear', random_state = 0)\n",
        "classifier.fit(X_train, y_train)"
      ]
    },
    {
      "cell_type": "code",
      "execution_count": null,
      "id": "ca72ec9f",
      "metadata": {
        "execution": {
          "iopub.execute_input": "2022-10-11T18:09:42.912309Z",
          "iopub.status.busy": "2022-10-11T18:09:42.911133Z",
          "iopub.status.idle": "2022-10-11T18:09:42.919183Z",
          "shell.execute_reply": "2022-10-11T18:09:42.918513Z"
        },
        "papermill": {
          "duration": 0.022603,
          "end_time": "2022-10-11T18:09:42.921315",
          "exception": false,
          "start_time": "2022-10-11T18:09:42.898712",
          "status": "completed"
        },
        "tags": [],
        "id": "ca72ec9f"
      },
      "outputs": [],
      "source": [
        "y_pred = classifier.predict(X_test)"
      ]
    },
    {
      "cell_type": "code",
      "execution_count": null,
      "id": "e5e23d9f",
      "metadata": {
        "execution": {
          "iopub.execute_input": "2022-10-11T18:09:42.944926Z",
          "iopub.status.busy": "2022-10-11T18:09:42.944042Z",
          "iopub.status.idle": "2022-10-11T18:09:42.950878Z",
          "shell.execute_reply": "2022-10-11T18:09:42.949750Z"
        },
        "papermill": {
          "duration": 0.020854,
          "end_time": "2022-10-11T18:09:42.953113",
          "exception": false,
          "start_time": "2022-10-11T18:09:42.932259",
          "status": "completed"
        },
        "tags": [],
        "id": "e5e23d9f",
        "outputId": "aa1ed70a-ada2-49ca-edc4-77c3c7b62009"
      },
      "outputs": [
        {
          "name": "stdout",
          "output_type": "stream",
          "text": [
            "[[164   5   0   0]\n",
            " [  1 160   1   0]\n",
            " [  0   3 154   5]\n",
            " [  0   0   1 166]]\n"
          ]
        }
      ],
      "source": [
        "cm = confusion_matrix(y_test, y_pred)\n",
        "print(cm)\n",
        "acc2 = accuracy_score(y_test, y_pred)"
      ]
    },
    {
      "cell_type": "code",
      "execution_count": null,
      "id": "cb69ee10",
      "metadata": {
        "execution": {
          "iopub.execute_input": "2022-10-11T18:09:42.977035Z",
          "iopub.status.busy": "2022-10-11T18:09:42.976684Z",
          "iopub.status.idle": "2022-10-11T18:09:42.982880Z",
          "shell.execute_reply": "2022-10-11T18:09:42.981215Z"
        },
        "papermill": {
          "duration": 0.021963,
          "end_time": "2022-10-11T18:09:42.986240",
          "exception": false,
          "start_time": "2022-10-11T18:09:42.964277",
          "status": "completed"
        },
        "tags": [],
        "id": "cb69ee10",
        "outputId": "4297892e-7246-473e-cb8d-57634bb1126b"
      },
      "outputs": [
        {
          "name": "stdout",
          "output_type": "stream",
          "text": [
            "Accuracy score: 0.9757575757575757\n"
          ]
        }
      ],
      "source": [
        "print(f\"Accuracy score: {acc2}\")"
      ]
    },
    {
      "cell_type": "markdown",
      "id": "63ae3df1",
      "metadata": {
        "papermill": {
          "duration": 0.011082,
          "end_time": "2022-10-11T18:09:43.010479",
          "exception": false,
          "start_time": "2022-10-11T18:09:42.999397",
          "status": "completed"
        },
        "tags": [],
        "id": "63ae3df1"
      },
      "source": [
        "**4. KNN**"
      ]
    },
    {
      "cell_type": "code",
      "execution_count": null,
      "id": "4b430053",
      "metadata": {
        "execution": {
          "iopub.execute_input": "2022-10-11T18:09:43.035988Z",
          "iopub.status.busy": "2022-10-11T18:09:43.035334Z",
          "iopub.status.idle": "2022-10-11T18:09:43.094963Z",
          "shell.execute_reply": "2022-10-11T18:09:43.094211Z"
        },
        "papermill": {
          "duration": 0.075451,
          "end_time": "2022-10-11T18:09:43.097757",
          "exception": false,
          "start_time": "2022-10-11T18:09:43.022306",
          "status": "completed"
        },
        "tags": [],
        "id": "4b430053",
        "outputId": "4019066b-c0d2-47d1-b792-afd3aeb08447"
      },
      "outputs": [
        {
          "name": "stdout",
          "output_type": "stream",
          "text": [
            "confusion matrix:\n",
            " [[163   6   0   0]\n",
            " [  5 149   8   0]\n",
            " [  0  12 140  10]\n",
            " [  0   0  11 156]]\n",
            "accuracy score =  0.9212121212121213\n"
          ]
        }
      ],
      "source": [
        "# knn = KNeighborsClassifier(n_neighbors = 5, metric = 'minkowski',p = 2)\n",
        "# knn.fit(X_train,y_train)\n",
        "\n",
        "# #getting confusion matrix\n",
        "# from sklearn.metrics import confusion_matrix\n",
        "# y_pred = knn.predict(X_test)\n",
        "# cm = confusion_matrix(y_test,y_pred)\n",
        "# print('confusion matrix:\\n',cm)\n",
        "\n",
        "# #checking accuracy\n",
        "# from sklearn.metrics import accuracy_score\n",
        "# knna = accuracy_score(y_test,y_pred)\n",
        "# print('accuracy score = ',accuracy_score(y_test,y_pred))"
      ]
    },
    {
      "cell_type": "markdown",
      "id": "cfa69f55",
      "metadata": {
        "papermill": {
          "duration": 0.015809,
          "end_time": "2022-10-11T18:09:43.128996",
          "exception": false,
          "start_time": "2022-10-11T18:09:43.113187",
          "status": "completed"
        },
        "tags": [],
        "id": "cfa69f55"
      },
      "source": [
        "**5. NB**"
      ]
    },
    {
      "cell_type": "code",
      "execution_count": null,
      "id": "7f2f294e",
      "metadata": {
        "execution": {
          "iopub.execute_input": "2022-10-11T18:09:43.162985Z",
          "iopub.status.busy": "2022-10-11T18:09:43.162565Z",
          "iopub.status.idle": "2022-10-11T18:09:43.177008Z",
          "shell.execute_reply": "2022-10-11T18:09:43.175825Z"
        },
        "papermill": {
          "duration": 0.03481,
          "end_time": "2022-10-11T18:09:43.179632",
          "exception": false,
          "start_time": "2022-10-11T18:09:43.144822",
          "status": "completed"
        },
        "tags": [],
        "id": "7f2f294e",
        "outputId": "d9d8f56f-bdc8-4c83-ed6c-efb2bae14edc"
      },
      "outputs": [
        {
          "name": "stdout",
          "output_type": "stream",
          "text": [
            "confusion matrix:\n",
            " [[154  15   0   0]\n",
            " [ 14 119  29   0]\n",
            " [  0  28 117  17]\n",
            " [  0   0  26 141]]\n",
            "accuracy score =  0.8045454545454546\n"
          ]
        }
      ],
      "source": [
        "# nb = GaussianNB()\n",
        "# nb.fit(X_train,y_train)\n",
        "\n",
        "# #getting confusion matrix\n",
        "# from sklearn.metrics import confusion_matrix\n",
        "# y_pred = nb.predict(X_test)\n",
        "# cm = confusion_matrix(y_test,y_pred)\n",
        "# print('confusion matrix:\\n',cm)\n",
        "\n",
        "# #checking accuracy\n",
        "# from sklearn.metrics import accuracy_score\n",
        "# nba = accuracy_score(y_test,y_pred)\n",
        "# print('accuracy score = ',accuracy_score(y_test,y_pred))"
      ]
    },
    {
      "cell_type": "markdown",
      "id": "eca97f32",
      "metadata": {
        "papermill": {
          "duration": 0.011479,
          "end_time": "2022-10-11T18:09:43.203605",
          "exception": false,
          "start_time": "2022-10-11T18:09:43.192126",
          "status": "completed"
        },
        "tags": [],
        "id": "eca97f32"
      },
      "source": [
        "**6. DT**"
      ]
    },
    {
      "cell_type": "code",
      "execution_count": null,
      "id": "25c303bd",
      "metadata": {
        "execution": {
          "iopub.execute_input": "2022-10-11T18:09:43.229347Z",
          "iopub.status.busy": "2022-10-11T18:09:43.228775Z",
          "iopub.status.idle": "2022-10-11T18:09:43.253331Z",
          "shell.execute_reply": "2022-10-11T18:09:43.251746Z"
        },
        "papermill": {
          "duration": 0.040882,
          "end_time": "2022-10-11T18:09:43.256122",
          "exception": false,
          "start_time": "2022-10-11T18:09:43.215240",
          "status": "completed"
        },
        "tags": [],
        "id": "25c303bd",
        "outputId": "4e67d6f3-8bb2-495b-dd10-2e15059a85f9"
      },
      "outputs": [
        {
          "name": "stdout",
          "output_type": "stream",
          "text": [
            "confusion matrix:\n",
            " [[142  27   0   0]\n",
            " [ 11 136  15   0]\n",
            " [  0  24 117  21]\n",
            " [  0   0  19 148]]\n",
            "accuracy score =  0.8227272727272728\n"
          ]
        }
      ],
      "source": [
        "#Decision Tree\n",
        "\n",
        "\n",
        "dt = DecisionTreeClassifier(criterion = 'entropy')\n",
        "dt.fit(X_train,y_train)\n",
        "\n",
        "#getting confusion matrix\n",
        "from sklearn.metrics import confusion_matrix\n",
        "y_pred = dt.predict(X_test)\n",
        "cm = confusion_matrix(y_test,y_pred)\n",
        "print('confusion matrix:\\n',cm)\n",
        "\n",
        "#checking accuracy\n",
        "from sklearn.metrics import accuracy_score\n",
        "dta = accuracy_score(y_test,y_pred)\n",
        "print('accuracy score = ',accuracy_score(y_test,y_pred))"
      ]
    },
    {
      "cell_type": "markdown",
      "id": "49c9298b",
      "metadata": {
        "papermill": {
          "duration": 0.011614,
          "end_time": "2022-10-11T18:09:43.279864",
          "exception": false,
          "start_time": "2022-10-11T18:09:43.268250",
          "status": "completed"
        },
        "tags": [],
        "id": "49c9298b"
      },
      "source": [
        "# Comparing Models"
      ]
    },
    {
      "cell_type": "code",
      "execution_count": null,
      "id": "5a6a2d04",
      "metadata": {
        "execution": {
          "iopub.execute_input": "2022-10-11T18:09:43.305511Z",
          "iopub.status.busy": "2022-10-11T18:09:43.305131Z",
          "iopub.status.idle": "2022-10-11T18:09:43.311704Z",
          "shell.execute_reply": "2022-10-11T18:09:43.310030Z"
        },
        "papermill": {
          "duration": 0.022536,
          "end_time": "2022-10-11T18:09:43.314499",
          "exception": false,
          "start_time": "2022-10-11T18:09:43.291963",
          "status": "completed"
        },
        "tags": [],
        "id": "5a6a2d04"
      },
      "outputs": [],
      "source": [
        "df = pd.DataFrame({'models' : ['Logistic Regression','Linear Regression','svm','Decision Tree'], 'Accuracy Score':['64','92','98','82']})"
      ]
    },
    {
      "cell_type": "code",
      "execution_count": null,
      "id": "205166fc",
      "metadata": {
        "execution": {
          "iopub.execute_input": "2022-10-11T18:09:43.340292Z",
          "iopub.status.busy": "2022-10-11T18:09:43.339906Z",
          "iopub.status.idle": "2022-10-11T18:09:43.352006Z",
          "shell.execute_reply": "2022-10-11T18:09:43.350573Z"
        },
        "papermill": {
          "duration": 0.027844,
          "end_time": "2022-10-11T18:09:43.354505",
          "exception": false,
          "start_time": "2022-10-11T18:09:43.326661",
          "status": "completed"
        },
        "tags": [],
        "id": "205166fc",
        "outputId": "75730b87-7b0c-4999-f774-476bba56ee84"
      },
      "outputs": [
        {
          "data": {
            "text/html": [
              "<div>\n",
              "<style scoped>\n",
              "    .dataframe tbody tr th:only-of-type {\n",
              "        vertical-align: middle;\n",
              "    }\n",
              "\n",
              "    .dataframe tbody tr th {\n",
              "        vertical-align: top;\n",
              "    }\n",
              "\n",
              "    .dataframe thead th {\n",
              "        text-align: right;\n",
              "    }\n",
              "</style>\n",
              "<table border=\"1\" class=\"dataframe\">\n",
              "  <thead>\n",
              "    <tr style=\"text-align: right;\">\n",
              "      <th></th>\n",
              "      <th>models</th>\n",
              "      <th>Accuracy Score</th>\n",
              "    </tr>\n",
              "  </thead>\n",
              "  <tbody>\n",
              "    <tr>\n",
              "      <th>2</th>\n",
              "      <td>svm</td>\n",
              "      <td>98</td>\n",
              "    </tr>\n",
              "    <tr>\n",
              "      <th>1</th>\n",
              "      <td>Linear Regression</td>\n",
              "      <td>92</td>\n",
              "    </tr>\n",
              "    <tr>\n",
              "      <th>3</th>\n",
              "      <td>knna</td>\n",
              "      <td>92</td>\n",
              "    </tr>\n",
              "    <tr>\n",
              "      <th>5</th>\n",
              "      <td>Decision Tree</td>\n",
              "      <td>82</td>\n",
              "    </tr>\n",
              "    <tr>\n",
              "      <th>4</th>\n",
              "      <td>Naive Bayes</td>\n",
              "      <td>80</td>\n",
              "    </tr>\n",
              "    <tr>\n",
              "      <th>0</th>\n",
              "      <td>Logistic Regression</td>\n",
              "      <td>64</td>\n",
              "    </tr>\n",
              "  </tbody>\n",
              "</table>\n",
              "</div>"
            ],
            "text/plain": [
              "                models Accuracy Score\n",
              "2                  svm             98\n",
              "1    Linear Regression             92\n",
              "3                 knna             92\n",
              "5        Decision Tree             82\n",
              "4          Naive Bayes             80\n",
              "0  Logistic Regression             64"
            ]
          },
          "execution_count": 26,
          "metadata": {},
          "output_type": "execute_result"
        }
      ],
      "source": [
        "df.sort_values(by = 'Accuracy Score', ascending = False)"
      ]
    }
  ],
  "metadata": {
    "kernelspec": {
      "display_name": "Python 3",
      "language": "python",
      "name": "python3"
    },
    "language_info": {
      "codemirror_mode": {
        "name": "ipython",
        "version": 3
      },
      "file_extension": ".py",
      "mimetype": "text/x-python",
      "name": "python",
      "nbconvert_exporter": "python",
      "pygments_lexer": "ipython3",
      "version": "3.7.12"
    },
    "papermill": {
      "default_parameters": {},
      "duration": 28.321211,
      "end_time": "2022-10-11T18:09:44.188906",
      "environment_variables": {},
      "exception": null,
      "input_path": "__notebook__.ipynb",
      "output_path": "__notebook__.ipynb",
      "parameters": {},
      "start_time": "2022-10-11T18:09:15.867695",
      "version": "2.3.4"
    },
    "colab": {
      "provenance": []
    }
  },
  "nbformat": 4,
  "nbformat_minor": 5
}